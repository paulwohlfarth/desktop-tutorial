{
 "cells": [
  {
   "cell_type": "markdown",
   "metadata": {
    "slideshow": {
     "slide_type": "slide"
    }
   },
   "source": [
    " # Session 2\n",
    " ## Python Programming Basics"
   ]
  },
  {
   "cell_type": "markdown",
   "metadata": {
    "slideshow": {
     "slide_type": "slide"
    }
   },
   "source": [
    "# About these Slides\n",
    "These slides have been written as jupyter notebooks. This is very easy to do, as code cells can be defined as markdown cells like this one, headings (the previous cell), markdown cells also allow for Latex formulae, like this one: \n",
    "$$c = \\sqrt{a^2 + b^2}$$\n",
    "and even embedd images like this one: ![SPE Logo](spelogo9dec.png)\n",
    "\n",
    "There are many more options to present results in Jupyter Notebooks and I won't show them all now. Instead, I will use some functions in these slides and share the notebook files with you in the workshop. This way you will have a blueprint that you can use later. \n",
    "\n",
    "I have used the RISE extension for these slides, that we have installed earlier. The documentation is available [here](https://rise.readthedocs.io/en/maint-5.6/).\n"
   ]
  },
  {
   "cell_type": "markdown",
   "metadata": {
    "slideshow": {
     "slide_type": "slide"
    }
   },
   "source": [
    "# Overview\n",
    "1. Datatypes, Variables, and Objects\n",
    "2. Operations in Python\n",
    "3. Indexing, lists and dictionaries\n",
    "4. Control flow statements\n",
    "5. Programme design, object oriented programming, debugging\n"
   ]
  },
  {
   "cell_type": "markdown",
   "metadata": {
    "slideshow": {
     "slide_type": "slide"
    }
   },
   "source": [
    "# Variables, Datatypes, and Objects\n",
    "An object can be a variable, a datastructure, a function, or a method. More techincally, an **object** refers to an instance of a class.\n",
    "\n",
    "A **variable** is simply a storage containger. Something that carries data. Vairables can be global (defined outside functions) or local (defined inside functions), they can be instance variables, class variables and more. But the definition we need is: something that carries data.\n",
    "\n",
    "Variables have **datatypes** which classify data. Python supports the following datatypes:\n",
    "\n",
    "- Numeric (numbers)\n",
    "- Boolean (True/False)\n",
    "- Sequential (text and ordered collections)\n",
    "- Dictionaries (unordered collections)\n",
    "\n",
    "\n"
   ]
  },
  {
   "cell_type": "markdown",
   "metadata": {
    "slideshow": {
     "slide_type": "slide"
    }
   },
   "source": [
    "# Numeric Datatypes\n",
    "Python supports the following numeric datatypes:\n",
    "- Integer: Positive or negattive whole numbers\n",
    "    - int: Plain integers \n",
    "    - long: Long integers (integers of infitie size)\n",
    "- Float: Real number allowing for decimals; up to 17 digits in length\n",
    "- Complex numbers"
   ]
  },
  {
   "cell_type": "markdown",
   "metadata": {
    "slideshow": {
     "slide_type": "slide"
    }
   },
   "source": [
    "# Boolean Datatypes\n",
    "\n",
    "Data that can take the values True and False. **Important:** First letters are capitalised! \n",
    "\n",
    "Booleans are used for simple logical test with binary outcome (True of False)."
   ]
  },
  {
   "cell_type": "code",
   "execution_count": null,
   "metadata": {
    "slideshow": {
     "slide_type": "fragment"
    }
   },
   "outputs": [],
   "source": [
    "# Example:\n",
    "my_string=(\"Hello world!\")\n",
    "print(my_string.isnumeric())"
   ]
  },
  {
   "cell_type": "markdown",
   "metadata": {
    "slideshow": {
     "slide_type": "slide"
    }
   },
   "source": [
    "# Sequential Datatypes\n",
    "Python supports the following sequential datatypes:\n",
    "- string, str(): text\n",
    "- lists, []: ordered collection of differnet datatypes, mutable\n",
    "- tuples, (): ordered collection of different datatypes, immutable\n",
    "\n",
    "**Immutable** means that tuples cannot be changed, once created."
   ]
  },
  {
   "cell_type": "markdown",
   "metadata": {
    "slideshow": {
     "slide_type": "notes"
    }
   },
   "source": [
    "maybe some example slide"
   ]
  },
  {
   "cell_type": "markdown",
   "metadata": {
    "slideshow": {
     "slide_type": "slide"
    }
   },
   "source": [
    "# Expressions, Operators, and Operands\n",
    "**Expressions** perform specific actions, based on **operators** with one or two **operands**.\n",
    "\n",
    "Example:\n",
    "\n",
    "$$3\\times5=15$$\n",
    "\n",
    "In this expression, a multiplication (operator) is performed between the numbers 3 and 5 (operands) with the result 15.\n",
    "\n",
    "Put simply: Operands are the numbers and operators the operations we perform on them.\n"
   ]
  },
  {
   "cell_type": "markdown",
   "metadata": {
    "slideshow": {
     "slide_type": "slide"
    }
   },
   "source": [
    "# Python Operators\n",
    "Python supports operators that can be grouped into\n",
    "- Arithmetic operators\n",
    "- Assignment operators\n",
    "- Comparison operators\n",
    "- Logical operators\n",
    "- Identity operators\n",
    "- Membership operators\n",
    "- (Bitwise operators)"
   ]
  },
  {
   "cell_type": "markdown",
   "metadata": {
    "slideshow": {
     "slide_type": "slide"
    }
   },
   "source": [
    "# Arythmetic Operators \n",
    "\n",
    "\n",
    "|  Operator   |  Name              |\n",
    "|-------------|--------------------|\n",
    "|  +          |   Addition         |\n",
    "|  -          |   Subtraction      |\n",
    "|  *          |   Multiplication   |\n",
    "|  /          |   Division         |\n",
    "|  %          |   Modulus          |\n",
    "| **          |   Exponentiation   |\n",
    "| //          |   Floor division   |\n",
    "\n"
   ]
  },
  {
   "cell_type": "markdown",
   "metadata": {
    "slideshow": {
     "slide_type": "slide"
    }
   },
   "source": [
    "# Assignment Operators\n",
    "\n",
    "<table class=\"w3-table-all notranslate\">\n",
    "<tbody><tr>\n",
    "<th style=\"width:33%\">Operator</th>\n",
    "<th style=\"width:33%\">Example</th>\n",
    "<th style=\"width:33%\">Same As</th>\n",
    "</tr>\n",
    "<tr>\n",
    "<td>=</td>\n",
    "<td>x = 5</td>\n",
    "<td>x = 5</td>\n",
    "<td><a target=\"_blank\" class=\"w3-btn btnsmall btnsmall\"   \n",
    "</tr>\n",
    "  <tr>\n",
    "<td>+=</td>\n",
    "<td>x += 3</td>\n",
    "<td>x = x + 3</td>\n",
    "<td><a target=\"_blank\" class=\"w3-btn btnsmall btnsmall\" \n",
    "  </tr>\n",
    "  <tr>\n",
    "<td>-=</td>\n",
    "<td>x -= 3</td>\n",
    "<td>x = x - 3</td>\n",
    "<td><a target=\"_blank\" class=\"w3-btn btnsmall btnsmall\"\n",
    "  </tr>\n",
    "  <tr>\n",
    "<td>*=</td>\n",
    "<td>x *= 3</td>\n",
    "<td>x = x * 3</td>\n",
    "<td><a target=\"_blank\" class=\"w3-btn btnsmall btnsmall\"  \n",
    "  </tr>\n",
    "  <tr>\n",
    "<td>/=</td>\n",
    "<td>x /= 3</td>\n",
    "<td>x = x / 3</td>\n",
    "<td><a target=\"_blank\" class=\"w3-btn btnsmall btnsmall\"  \n",
    "  </tr>\n",
    "  <tr>\n",
    "<td>%=</td>\n",
    "<td>x %= 3</td>\n",
    "<td>x = x % 3</td>\n",
    "<td><a target=\"_blank\" class=\"w3-btn btnsmall btnsmall\"  \n",
    "  </tr>\n",
    "  <tr>\n",
    "<td>//=</td>\n",
    "<td>x //= 3</td>\n",
    "<td>x = x // 3</td>\n",
    "<td><a target=\"_blank\" class=\"w3-btn btnsmall btnsmall\"  \n",
    "  </tr>\n",
    "  <tr>\n",
    "<td>**=</td>\n",
    "<td>x **= 3</td>\n",
    "<td>x = x ** 3</td>\n",
    "<td><a target=\"_blank\" class=\"w3-btn btnsmall btnsmall\"  \n",
    "  </tr>\n",
    "  <tr>\n",
    "<td>&amp;=</td>\n",
    "<td>x &amp;= 3</td>\n",
    "<td>x = x &amp; 3</td>\n",
    "<td><a target=\"_blank\" class=\"w3-btn btnsmall btnsmall\"  \n",
    "  </tr>\n",
    "  <tr>\n",
    "<td>|=</td>\n",
    "<td>x |= 3</td>\n",
    "<td>x = x | 3</td>\n",
    "<td><a target=\"_blank\" class=\"w3-btn btnsmall btnsmall\"  \n",
    "  </tr>\n",
    "<tr>\n",
    "<td>^=</td>\n",
    "<td>x ^= 3</td>\n",
    "<td>x = x ^ 3</td>\n",
    "<td><a target=\"_blank\" class=\"w3-btn btnsmall btnsmall\"  \n",
    "</tr>\n",
    "<tr>\n",
    "<td>&gt;&gt;=</td>\n",
    "<td>x &gt;&gt;= 3</td>\n",
    "<td>x = x &gt;&gt; 3</td>\n",
    "<td><a target=\"_blank\" class=\"w3-btn btnsmall btnsmall\"  \n",
    "</tr>\n",
    "<tr>\n",
    "<td>&lt;&lt;=</td>\n",
    "<td>x &lt;&lt;= 3</td>\n",
    "<td>x = x &lt;&lt; 3</td>\n",
    "<td><a target=\"_blank\" class=\"w3-btn btnsmall btnsmall\"  \n",
    "</tr>\n",
    "</tbody></table>\n",
    "\n"
   ]
  },
  {
   "cell_type": "markdown",
   "metadata": {
    "slideshow": {
     "slide_type": "slide"
    }
   },
   "source": [
    "# Comparison Operators\n",
    "\n",
    "<table class=\"w3-table-all notranslate\">\n",
    "<tbody><tr>\n",
    "<th style=\"width:33%\">Operator</th>\n",
    "<th style=\"width:33%\">Name</th>\n",
    "<th style=\"width:33%\">Example</th>\n",
    "</tr>\n",
    "<tr>\n",
    "<td>==</td>\n",
    "<td>Equal</td>\n",
    "<td>x == y</td>\n",
    "</tr>\n",
    "<tr>\n",
    "<td>!=</td>\n",
    "<td>Not equal</td>\n",
    "<td>x != y</td>\n",
    "</tr>\n",
    "<tr>\n",
    "<td>&gt;</td>\n",
    "<td>Greater than</td>\n",
    "<td>x &gt; y</td>\n",
    "</tr>\n",
    "<tr>\n",
    "<td>&lt;</td>\n",
    "<td>Less than</td>\n",
    "<td>x &lt; y</td>\n",
    "</tr>\n",
    "  <tr>\n",
    "<td>&gt;=</td>\n",
    "<td>Greater than or equal to</td>\n",
    "<td>x &gt;= y</td>\n",
    "  </tr>\n",
    "<tr>\n",
    "<td>&lt;=</td>\n",
    "<td>Less than or equal to</td>\n",
    "<td>x &lt;= y</td>\n",
    "</tr>\n",
    "</tbody></table>"
   ]
  },
  {
   "cell_type": "code",
   "execution_count": null,
   "metadata": {
    "slideshow": {
     "slide_type": "fragment"
    }
   },
   "outputs": [],
   "source": [
    "#Example:\n",
    "5==5"
   ]
  },
  {
   "cell_type": "markdown",
   "metadata": {
    "slideshow": {
     "slide_type": "slide"
    }
   },
   "source": [
    "# Logical Operators\n",
    "\n",
    "<table class=\"w3-table-all notranslate\">\n",
    "<tbody><tr>\n",
    "<th style=\"width:23%\">Operator</th>\n",
    "<th style=\"width:33%\">Description</th>\n",
    "<th style=\"width:33%\">Example</th>\n",
    "\n",
    "</tr>\n",
    "<tr>\n",
    "<td>and&nbsp;</td>\n",
    "<td>Returns True if both statements are true</td>\n",
    "<td>x &lt; 5 and&nbsp; x &lt; 10</td>\n",
    "<tr>\n",
    "<td>or</td>\n",
    "<td>Returns True if one of the statements is true</td>\n",
    "<td>x &lt; 5 or x &lt; 4</td>\n",
    "<tr>\n",
    "<td>not</td>\n",
    "<td>Reverse the result, returns False if the result is true</td>\n",
    "<td>not(x &lt; 5 and x &lt; 10)</td>\n",
    "</tbody></table>"
   ]
  },
  {
   "cell_type": "code",
   "execution_count": 10,
   "metadata": {
    "slideshow": {
     "slide_type": "fragment"
    }
   },
   "outputs": [
    {
     "data": {
      "text/plain": [
       "True"
      ]
     },
     "execution_count": 10,
     "metadata": {},
     "output_type": "execute_result"
    }
   ],
   "source": [
    "#Example:\n",
    "x=3\n",
    "x>0 and x<5"
   ]
  },
  {
   "cell_type": "markdown",
   "metadata": {
    "slideshow": {
     "slide_type": "slide"
    }
   },
   "source": [
    "# Identity Operators\n",
    "\n",
    "<table class=\"w3-table-all notranslate\">\n",
    "<tbody><tr>\n",
    "<th style=\"width:33%\">Operator</th>\n",
    "<th style=\"width:33%\">Description</th>\n",
    "<th style=\"width:33%\">Example</th>\n",
    "</tr>\n",
    "<tr>\n",
    "<td>is&nbsp;</td>\n",
    "<td>Returns true if both variables are the same object</td>\n",
    "<td>x is y</td>\n",
    "</tr>\n",
    "<tr>\n",
    "<td>is not</td>\n",
    "<td>Returns true if both variables are not the same object</td>\n",
    "<td>x is not y</td>\n",
    "</tr>\n",
    "</tbody></table>"
   ]
  },
  {
   "cell_type": "code",
   "execution_count": 13,
   "metadata": {
    "slideshow": {
     "slide_type": "fragment"
    }
   },
   "outputs": [
    {
     "data": {
      "text/plain": [
       "True"
      ]
     },
     "execution_count": 13,
     "metadata": {},
     "output_type": "execute_result"
    }
   ],
   "source": [
    "# Example\n",
    "x=3\n",
    "y=3\n",
    "x is y"
   ]
  },
  {
   "cell_type": "markdown",
   "metadata": {
    "slideshow": {
     "slide_type": "slide"
    }
   },
   "source": [
    "# Membership Operators\n",
    "\n",
    "<table class=\"w3-table-all notranslate\">\n",
    "<tbody><tr>\n",
    "<th style=\"width:33%\">Operator</th>\n",
    "<th style=\"width:33%\">Description</th>\n",
    "<th style=\"width:33%\">Example</th>\n",
    "</tr>\n",
    "<tr>\n",
    "<td>in&nbsp;</td>\n",
    "<td>Returns True if a sequence with the specified value is present in the object</td>\n",
    "<td>x in y</td>\n",
    "</tr>\n",
    "<tr>\n",
    "<td>not in</td>\n",
    "<td>Returns True if a sequence with the specified value is not present in the \n",
    "object</td>\n",
    "<td>x not in y</td>\n",
    "</tr>\n",
    "</tbody></table>"
   ]
  },
  {
   "cell_type": "code",
   "execution_count": 14,
   "metadata": {
    "slideshow": {
     "slide_type": "fragment"
    }
   },
   "outputs": [
    {
     "data": {
      "text/plain": [
       "True"
      ]
     },
     "execution_count": 14,
     "metadata": {},
     "output_type": "execute_result"
    }
   ],
   "source": [
    "# Example\n",
    "x=2\n",
    "y=[1,2,3]\n",
    "x in y"
   ]
  },
  {
   "cell_type": "markdown",
   "metadata": {
    "slideshow": {
     "slide_type": "slide"
    }
   },
   "source": [
    "# Set Operations\n",
    "Sets are datatypes that cannot have multiple occurences of the same calues.\n",
    "<table class=\"docutils align-default\">\n",
    "<tbody><tr>\n",
    "<th style=\"width: 41%\">Operation</th>\n",
    "<th style=\"width: 16%\">Equivalent</th>\n",
    "<th style=\"width: 43%\">Result</th>\n",
    "</tr>\n",
    "<tr>\n",
    "<td>len(s)</td>\n",
    "<td></td>\n",
    "<td>number of elements in set <em>s</em>(cardinality)</td>\n",
    "</tr>\n",
    "<tr>\n",
    "<td>s.issubset(t)</td>\n",
    "<td><code class=\"docutils literal notranslate\"><span class=\"pre\">s</span> <span class=\"pre\">&lt;=</span> <span class=\"pre\">t</span></code></td>\n",
    "<td>test whether every element in\n",
    "<em>s</em> is in <em>t</em></td>\n",
    "</tr>\n",
    "<tr>\n",
    "<td>s.issuperset(t)</td>\n",
    "<td><code class=\"docutils literal notranslate\"><span class=\"pre\">s</span> <span class=\"pre\">>=</span> <span class=\"pre\">t</span></code></td>\n",
    "<td>test whether every element in\n",
    "<em>t</em> is in <em>s</em></td>\n",
    "</tr>\n",
    "<tr>\n",
    "<td>s.union(t)</td>\n",
    "<td>s|t</td>\n",
    "<td>new set with elements from both\n",
    "<em>s</em> and <em>t</em></td>\n",
    "</tr>\n",
    "<tr>\n",
    "<td>s.intersection(t)</td>\n",
    "<td><code class=\"docutils literal notranslate\"><span class=\"pre\">s</span> <span class=\"pre\">&amp;</span> <span class=\"pre\">t</span></code></td>\n",
    "<td>new set with elements common to\n",
    "<em>s</em> and <em>t</em></td>\n",
    "</tr>\n",
    "<tr>\n",
    "<td>s.difference(t)</td>\n",
    "<td>s-t</td>\n",
    "<td>new set with elements in <em>s</em>\n",
    "but not in <em>t</em></td>\n",
    "</tr>\n",
    "<tr>\n",
    "<td>s.symmetric_difference(t)</td>\n",
    "<td>s^t</td>\n",
    "<td>new set with elements in either\n",
    "<em>s</em> or <em>t</em> but not both</td>\n",
    "</tr>\n",
    "<tr>\n",
    "<td>s.copy()</td>\n",
    "<td></td>\n",
    "<td>new set with a shallow copy of\n",
    "<em>s</em></td>\n",
    "</tr>\n",
    "</tbody>\n",
    "</table>\n"
   ]
  },
  {
   "cell_type": "code",
   "execution_count": 27,
   "metadata": {
    "slideshow": {
     "slide_type": "slide"
    }
   },
   "outputs": [
    {
     "name": "stdout",
     "output_type": "stream",
     "text": [
      "5\n",
      "{0, 1, 2, 3, 4, 5, 6, 8}\n",
      "{0, 1, 2, 3, 4, 5, 6, 8}\n",
      "[1, 2, 3]\n"
     ]
    }
   ],
   "source": [
    "#Example\n",
    "A = {0, 2, 4, 6, 8}; \n",
    "B = {1, 2, 3, 4, 5}; \n",
    "C = {1,2,3,1,2,3}; \n",
    "\n",
    "# Counting elements in A\n",
    "lenA=len(A)\n",
    "print(lenA)\n",
    "\n",
    "# Union of sets A and B\n",
    "print(A | B) \n",
    "D=A.union(B)\n",
    "print(D)\n",
    "\n",
    "#Eliminating duplicates:\n",
    "C = list(set(C))\n",
    "print(C)"
   ]
  },
  {
   "cell_type": "markdown",
   "metadata": {
    "slideshow": {
     "slide_type": "slide"
    }
   },
   "source": [
    "# Iterations, Indexing, and Slicing\n",
    "**Iterations** are repeated processes to obtain a sequence of outcomes. **Iterators** are objects that can be iterated upon. Iterations allow for efficient programming that causes less errors.\n",
    "\n",
    "**Indexes** refer to individual elements in **iterables** (most collections/containers) and **indexing** refers to ways to access individual elements. **Slicing** refers to obtaining subsets of iterables. \n"
   ]
  },
  {
   "cell_type": "code",
   "execution_count": 45,
   "metadata": {
    "slideshow": {
     "slide_type": "fragment"
    }
   },
   "outputs": [
    {
     "name": "stdout",
     "output_type": "stream",
     "text": [
      "9\n",
      "[9, 16]\n",
      "[1, 4, 9]\n"
     ]
    }
   ],
   "source": [
    "# Examples:\n",
    "squares = [1, 4, 9, 16, 25]\n",
    "index = squares[2] #Indexing: Access the third element in 'squares'\n",
    "print(index)\n",
    "slice1 = squares[2:4] #Slicing: Accessing the slice from the third to the forth elements in 'squares'\n",
    "print(slice1)\n",
    "slice2 = squares[:-2] # Access all elements minus the last two\n",
    "print(slice2)"
   ]
  },
  {
   "cell_type": "markdown",
   "metadata": {
    "slideshow": {
     "slide_type": "slide"
    }
   },
   "source": [
    "# Control Flow (compound) Statements\n",
    "Iterations are implemented in control flow statements. There are generally 3 types of control flow statements in Python:\n",
    "1. **while** statements\n",
    "2. **if** statements\n",
    "3. **for** statements\n",
    "\n",
    "Note: Python uses indentation, i.e. the expression inside a control flow statement must be indented."
   ]
  },
  {
   "cell_type": "markdown",
   "metadata": {
    "slideshow": {
     "slide_type": "slide"
    }
   },
   "source": [
    "# While statements\n",
    "While statements iterates for as long as a condition is true. "
   ]
  },
  {
   "cell_type": "code",
   "execution_count": 56,
   "metadata": {
    "slideshow": {
     "slide_type": "fragment"
    }
   },
   "outputs": [
    {
     "name": "stdout",
     "output_type": "stream",
     "text": [
      "0\n",
      "1\n",
      "1\n",
      "2\n",
      "3\n",
      "5\n",
      "8\n"
     ]
    }
   ],
   "source": [
    "#Example: Fibonacci sequence (each element is the sum of the two preceeding elements)\n",
    "a, b = 0, 1\n",
    "while a < 10:\n",
    "    print(a)\n",
    "    a, b = b, a+b"
   ]
  },
  {
   "cell_type": "markdown",
   "metadata": {
    "slideshow": {
     "slide_type": "slide"
    }
   },
   "source": [
    "# If Statements\n",
    "An if statement executes an interation based on a condition, which is given by the expression following **if**. Otherwise the program will execute the expression following **else**.\n",
    "\n",
    "The iteration can test further conditions, using **elif**."
   ]
  },
  {
   "cell_type": "code",
   "execution_count": 70,
   "metadata": {},
   "outputs": [
    {
     "name": "stdout",
     "output_type": "stream",
     "text": [
      "a is greater than b\n"
     ]
    }
   ],
   "source": [
    "a = 200\n",
    "b = 33\n",
    "if b > a:\n",
    "  print(\"b is greater than a\")\n",
    "elif a == b:\n",
    "  print(\"a and b are equal\")\n",
    "else:\n",
    "  print(\"a is greater than b\")"
   ]
  },
  {
   "cell_type": "markdown",
   "metadata": {
    "slideshow": {
     "slide_type": "slide"
    }
   },
   "source": [
    "# For Statements\n",
    "The for statement is used to iterate over the elements of a sequence or other objects."
   ]
  },
  {
   "cell_type": "code",
   "execution_count": null,
   "metadata": {
    "slideshow": {
     "slide_type": "fragment"
    }
   },
   "outputs": [],
   "source": [
    "for i in range(10):\n",
    "    print(i)\n",
    "    i = 5  "
   ]
  },
  {
   "cell_type": "markdown",
   "metadata": {
    "slideshow": {
     "slide_type": "slide"
    }
   },
   "source": [
    "# Further Compound Statements and Breaks\n",
    "There are other types of statements that are less commonly used for more advanced programmes. E.g. **try statements** for exception handling and **with statements** for wrappers (a programme that calls other programmes). We wont be covering those, but more information is available in the documentation [here](https://docs.python.org/3/reference/compound_stmts.html#while).\n",
    "\n",
    "Control flow statements can sometimes lead to indefinite iterations. For this reason, and for debugging purposes it is useful to be able to stop them. This is what **break** statement does. \n",
    "\n",
    "A **continue** statement continues with the next cycle of the nearest enclosing loop."
   ]
  },
  {
   "cell_type": "markdown",
   "metadata": {
    "slideshow": {
     "slide_type": "slide"
    }
   },
   "source": [
    "# Nested Loops\n",
    "Loops can be nested. A nested loop is a loop that exists inside another loop."
   ]
  },
  {
   "cell_type": "code",
   "execution_count": 82,
   "metadata": {
    "slideshow": {
     "slide_type": "fragment"
    }
   },
   "outputs": [
    {
     "name": "stdout",
     "output_type": "stream",
     "text": [
      "2  is prime\n",
      "3  is prime\n",
      "5  is prime\n",
      "7  is prime\n",
      "11  is prime\n",
      "13  is prime\n",
      "17  is prime\n",
      "19  is prime\n",
      "23  is prime\n",
      "29  is prime\n",
      "Good bye!\n"
     ]
    }
   ],
   "source": [
    "#Example for nested while loop (finding prime numbers up to 100)\n",
    "i = 2\n",
    "while(i < 30):\n",
    "   j = 2\n",
    "   while(j <= (i/j)):\n",
    "      if not(i%j): break\n",
    "      j = j + 1\n",
    "   if (j > i/j) : print(i, \" is prime\")\n",
    "   i = i + 1\n",
    "\n",
    "print(\"Good bye!\")"
   ]
  },
  {
   "cell_type": "markdown",
   "metadata": {
    "slideshow": {
     "slide_type": "slide"
    }
   },
   "source": [
    "# Programme Design\n",
    "Good design, i.e. planning of code is important, especially when programmes become large. Otherwise we create *Spaghetty code* (i.e. code with circular dependencies, lots of global variables, large nested loops) that complicate further and further, leading to conflicts down the line.\n",
    "\n",
    "To avoid this, best practise should be followed. Python style guides (often build into editors) can be used for that, e.g.\n",
    "- pylint\n",
    "- pychecker\n",
    "- pep8\n"
   ]
  },
  {
   "cell_type": "markdown",
   "metadata": {
    "slideshow": {
     "slide_type": "slide"
    }
   },
   "source": [
    "# Object Oriented Programming\n",
    "Object oriented programming uses the concept of inheritence, i.e. reusing methods and properties of objects, to obtain an efficient code structure. Common methods and properties are defined in classes. \n",
    "\n",
    "Example: LandRover is an instance of the class *car*.\n",
    "\n",
    "**Parent Class** refers to a class that contains further classes, called **child class**.\n",
    "\n",
    "Example: LandRover is an instance of the class *SUV*, which belongs to the parent class *car*.\n",
    "\n",
    "Child classes inherit attributes from parent classes.\n"
   ]
  },
  {
   "cell_type": "markdown",
   "metadata": {
    "slideshow": {
     "slide_type": "slide"
    }
   },
   "source": [
    "# Functions\n",
    "A function is a part of code that only runs when it is called. Functions are defined using `def` followed by the function name and comma-separated arguments in brackets. Statements, that form the body of the function follow idented below.\n",
    "\n",
    "`def my_function(arg1, arg2, arg3)\n",
    "    Statement1\n",
    "    Statement2`"
   ]
  },
  {
   "cell_type": "markdown",
   "metadata": {
    "slideshow": {
     "slide_type": "slide"
    }
   },
   "source": [
    "# Special Methods\n",
    "There are special methods (enclosed by double underscores) in python that use reserved names. A lot of this is beyond the scope of this workshop (more info [here](https://docs.python.org/2/reference/datamodel.html#special-method-names)).\n",
    "\n",
    "One special method name you will likely encounter is called *instantiation*. The function `__init__`, called a *constructor*, is used to construct an instance of the class. The default constructor is `__init__(self)`. This constructor only refers to the instance that is being created by the constructor it*self*.\n",
    "\n",
    "One way to think about it is a table: We will first have to create an empty table, before we can populate it. Similarly, we will have to create an 'empty' class before we can use it. "
   ]
  },
  {
   "cell_type": "markdown",
   "metadata": {
    "slideshow": {
     "slide_type": "slide"
    }
   },
   "source": [
    "#Example Classes:\n",
    "class Person:\n",
    "  def __init__(self, fname, lname):\n",
    "    self.firstname = fname\n",
    "    self.lastname = lname\n",
    "\n",
    "  def printname(self):\n",
    "    print(self.firstname, self.lastname)\n",
    "\n",
    "#Use the Person class to create an object, and then execute the printname method:\n",
    "\n",
    "x = Person(\"John\", \"Doe\")\n",
    "x.printname()"
   ]
  },
  {
   "cell_type": "markdown",
   "metadata": {
    "slideshow": {
     "slide_type": "slide"
    }
   },
   "source": [
    "# Debugging\n",
    "Degubbing is the process of removing errors (bugs) from code. The challenge often is finding rather than removing the error.\n",
    "\n",
    "**Print statements.** This is the simplest way to detect errors. If a statement that has been added to the code is printed, this indicates that the segment up to the print statement has no error.\n",
    "\n",
    "**Break points.** A simple alternative to print statements that do the same job in a different way: stopping the code. If en error is raised, it has to be in the segment before the break.\n",
    "\n",
    "**Debuggers.** These are build in tools that highlight errors. Python's native debugger is [`IDLE`](https://docs.python.org/3/library/idle.html), another one is [`pdb`](https://docs.python.org/3/library/pdb.html#module-pdb)Spyder uses [`ipdb`](https://pypi.org/project/ipdb/), but other tools are available."
   ]
  }
 ],
 "metadata": {
  "anaconda-cloud": {},
  "celltoolbar": "Slideshow",
  "kernelspec": {
   "display_name": "Python 3",
   "language": "python",
   "name": "python3"
  },
  "language_info": {
   "codemirror_mode": {
    "name": "ipython",
    "version": 3
   },
   "file_extension": ".py",
   "mimetype": "text/x-python",
   "name": "python",
   "nbconvert_exporter": "python",
   "pygments_lexer": "ipython3",
   "version": "3.7.4"
  }
 },
 "nbformat": 4,
 "nbformat_minor": 1
}
